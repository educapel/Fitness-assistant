{
 "cells": [
  {
   "metadata": {
    "ExecuteTime": {
     "end_time": "2025-09-07T12:53:28.839988Z",
     "start_time": "2025-09-07T12:53:28.837554Z"
    }
   },
   "cell_type": "code",
   "source": [
    "import os\n",
    "from dotenv import load_dotenv\n",
    "from openai import OpenAI\n",
    "import pandas as pd\n",
    "import minsearch\n",
    "from tqdm.auto import tqdm\n"
   ],
   "id": "381d8527cdef9217",
   "outputs": [],
   "execution_count": 41
  },
  {
   "metadata": {
    "ExecuteTime": {
     "end_time": "2025-09-07T12:18:00.323190Z",
     "start_time": "2025-09-07T12:18:00.318189Z"
    }
   },
   "cell_type": "code",
   "source": [
    "load_dotenv()\n",
    "\n",
    "api_key = os.getenv('OPENAI_API_KEY')"
   ],
   "id": "5ca169ed3a635040",
   "outputs": [],
   "execution_count": 6
  },
  {
   "cell_type": "code",
   "id": "initial_id",
   "metadata": {
    "collapsed": true,
    "ExecuteTime": {
     "end_time": "2025-09-07T12:23:27.150673Z",
     "start_time": "2025-09-07T12:23:27.105313Z"
    }
   },
   "source": [
    "from openai import OpenAI\n",
    "\n",
    "client = OpenAI(\n",
    "  base_url=\"https://openrouter.ai/api/v1\",\n",
    "  api_key=api_key,\n",
    ")\n",
    "\n"
   ],
   "outputs": [],
   "execution_count": 19
  },
  {
   "metadata": {
    "ExecuteTime": {
     "end_time": "2025-09-07T12:18:01.798173Z",
     "start_time": "2025-09-07T12:18:01.788644Z"
    }
   },
   "cell_type": "code",
   "source": [
    "df = pd.read_csv('data.csv')\n",
    "documents = df.to_dict(orient='records')\n"
   ],
   "id": "3f2a72649df5d87",
   "outputs": [],
   "execution_count": 7
  },
  {
   "metadata": {
    "ExecuteTime": {
     "end_time": "2025-09-07T12:21:59.663385Z",
     "start_time": "2025-09-07T12:21:59.660654Z"
    }
   },
   "cell_type": "code",
   "source": [
    "prompt_template = \"\"\"\n",
    "You emulate a user of our fitness assistant application.\n",
    "Formulate 5 questions this user might ask based on a provided exercise.\n",
    "Make the questions specific to this exercise.\n",
    "The record should contain the answer to the questions, and the questions should\n",
    "be complete and not too short. Use as fewer words as possible from the record.\n",
    "\n",
    "The record:\n",
    "\n",
    "exercise_name: {exercise_name}\n",
    "type_of_activity: {type_of_activity}\n",
    "type_of_equipment: {type_of_equipment}\n",
    "body_part: {body_part}\n",
    "type: {type}\n",
    "muscle_groups_activated: {muscle_groups_activated}\n",
    "instructions: {instructions}\n",
    "\n",
    "Provide the output in parsable JSON without using code blocks:\n",
    "\n",
    "{{\"questions\": [\"question1\", \"question2\", ..., \"question5\"]}}\n",
    "\"\"\".strip()"
   ],
   "id": "b26a537d4409baa0",
   "outputs": [],
   "execution_count": 15
  },
  {
   "metadata": {
    "ExecuteTime": {
     "end_time": "2025-09-07T12:22:00.668254Z",
     "start_time": "2025-09-07T12:22:00.665445Z"
    }
   },
   "cell_type": "code",
   "source": [
    "prompt = prompt_template.format(**documents[0])\n",
    "print(prompt)"
   ],
   "id": "e4298a0c86d88e51",
   "outputs": [
    {
     "name": "stdout",
     "output_type": "stream",
     "text": [
      "You emulate a user of our fitness assistant application.\n",
      "Formulate 5 questions this user might ask based on a provided exercise.\n",
      "Make the questions specific to this exercise.\n",
      "The record should contain the answer to the questions, and the questions should\n",
      "be complete and not too short. Use as fewer words as possible from the record.\n",
      "\n",
      "The record:\n",
      "\n",
      "exercise_name: Push-Ups\n",
      "type_of_activity: Strength\n",
      "type_of_equipment: Bodyweight\n",
      "body_part: Upper Body\n",
      "type: Push\n",
      "muscle_groups_activated: Pectorals, Triceps, Deltoids\n",
      "instructions: Start in a high plank position with your hands under your shoulders. Lower your body until your chest nearly touches the floor. Push back up to the starting position.\n",
      "\n",
      "Provide the output in parsable JSON without using code blocks:\n",
      "\n",
      "{\"questions\": [\"question1\", \"question2\", ..., \"question5\"]}\n"
     ]
    }
   ],
   "execution_count": 16
  },
  {
   "metadata": {
    "ExecuteTime": {
     "end_time": "2025-09-07T12:23:15.962212Z",
     "start_time": "2025-09-07T12:23:15.959314Z"
    }
   },
   "cell_type": "code",
   "source": [
    "def llm(prompt):\n",
    "    response = client.chat.completions.create(\n",
    "      extra_body={},\n",
    "      model=\"deepseek/deepseek-chat-v3.1:free\",\n",
    "      messages=[\n",
    "        {\n",
    "          \"role\": \"user\",\n",
    "          \"content\": prompt\n",
    "        }\n",
    "      ]\n",
    "    )\n",
    "\n",
    "    return response.choices[0].message.content"
   ],
   "id": "21db326776b4e5cf",
   "outputs": [],
   "execution_count": 17
  },
  {
   "metadata": {
    "ExecuteTime": {
     "end_time": "2025-09-07T12:23:33.690740Z",
     "start_time": "2025-09-07T12:23:29.056790Z"
    }
   },
   "cell_type": "code",
   "source": "questions = llm(prompt)\n",
   "id": "4bf9102df2530a11",
   "outputs": [],
   "execution_count": 20
  },
  {
   "metadata": {
    "ExecuteTime": {
     "end_time": "2025-09-07T12:23:42.781846Z",
     "start_time": "2025-09-07T12:23:42.778152Z"
    }
   },
   "cell_type": "code",
   "source": [
    "import json\n",
    "json.loads(questions)\n"
   ],
   "id": "fa547be01860b625",
   "outputs": [
    {
     "data": {
      "text/plain": [
       "{'questions': ['How do I position my hands correctly for this exercise?',\n",
       "  'Which muscles should I feel working during the movement?',\n",
       "  'What is the proper way to lower my body during the exercise?',\n",
       "  'Should my chest touch the floor at the bottom of the movement?',\n",
       "  'What is the starting position I should return to after each repetition?']}"
      ]
     },
     "execution_count": 21,
     "metadata": {},
     "output_type": "execute_result"
    }
   ],
   "execution_count": 21
  },
  {
   "metadata": {},
   "cell_type": "markdown",
   "source": "# Retrieval evaluation data generation",
   "id": "e3e461c2ea622b0f"
  },
  {
   "metadata": {},
   "cell_type": "code",
   "outputs": [],
   "execution_count": null,
   "source": [
    "def generate_questions(doc):\n",
    "    prompt = prompt_template.format(**doc)\n",
    "\n",
    "    response = client.chat.completions.create(\n",
    "      extra_body={},\n",
    "      model=\"deepseek/deepseek-chat-v3.1:free\",\n",
    "      messages=[\n",
    "        {\n",
    "          \"role\": \"user\",\n",
    "          \"content\": prompt\n",
    "        }\n",
    "      ]\n",
    "    )\n",
    "\n",
    "    json_response = response.choices[0].message.content\n",
    "    return json_response"
   ],
   "id": "bd2384ef7c5c64b8"
  },
  {
   "metadata": {},
   "cell_type": "code",
   "outputs": [],
   "execution_count": null,
   "source": [
    "from tqdm.auto import tqdm\n",
    "results = {}\n"
   ],
   "id": "66d4d141d5f51190"
  },
  {
   "metadata": {},
   "cell_type": "code",
   "outputs": [],
   "execution_count": null,
   "source": [
    "for doc in tqdm(documents):\n",
    "    doc_id = doc['id']\n",
    "    if doc_id in results:\n",
    "        continue\n",
    "\n",
    "    questions_raw = generate_questions(doc)\n",
    "    questions = json.loads(questions_raw)\n",
    "    results[doc_id] = questions['questions']"
   ],
   "id": "6a06bd6604fa8db7"
  },
  {
   "metadata": {},
   "cell_type": "code",
   "outputs": [],
   "execution_count": null,
   "source": [
    "final_results = []\n",
    "\n",
    "for doc_id, questions in results.items():\n",
    "    for q in questions:\n",
    "        final_results.append((doc_id, q))"
   ],
   "id": "e9d795d10a2c1fef"
  },
  {
   "metadata": {},
   "cell_type": "code",
   "outputs": [],
   "execution_count": null,
   "source": "df_results = pd.DataFrame(final_results, columns=['id', 'question'])\n",
   "id": "153e0ebef4ffe9d1"
  },
  {
   "metadata": {},
   "cell_type": "code",
   "outputs": [],
   "execution_count": null,
   "source": [
    "df_results.to_csv('../data/ground-truth-retrieval.csv', index=False)\n",
    "!head ../data/ground-truth-retrieval.csv\n"
   ],
   "id": "e8acbf2add1530e4"
  },
  {
   "metadata": {},
   "cell_type": "markdown",
   "source": "## Evaluating the retrieval search",
   "id": "eb54e6ac37d95933"
  },
  {
   "metadata": {
    "ExecuteTime": {
     "end_time": "2025-09-07T12:53:10.622216Z",
     "start_time": "2025-09-07T12:53:10.614944Z"
    }
   },
   "cell_type": "code",
   "source": [
    "df_ground_truth = pd.read_csv('data/ground-truth-retrieval.csv')\n",
    "df = pd.read_csv('data/data.csv')\n",
    "documents = df.to_dict(orient='records')\n"
   ],
   "id": "48d58f94e057aed9",
   "outputs": [],
   "execution_count": 38
  },
  {
   "metadata": {
    "ExecuteTime": {
     "end_time": "2025-09-07T12:53:12.794016Z",
     "start_time": "2025-09-07T12:53:12.789755Z"
    }
   },
   "cell_type": "code",
   "source": "ground_truth = df_ground_truth.to_dict(orient='records')\n",
   "id": "511dc9e9888cd4a7",
   "outputs": [],
   "execution_count": 39
  },
  {
   "metadata": {
    "ExecuteTime": {
     "end_time": "2025-09-07T12:53:36.229173Z",
     "start_time": "2025-09-07T12:53:36.215092Z"
    }
   },
   "cell_type": "code",
   "source": [
    "index= minsearch.Index(\n",
    "    text_fields = [ 'exercise_name', 'type_of_activity', 'type_of_equipment',\n",
    "       'body_part', 'type', 'muscle_groups_activated', 'instructions'],\n",
    "    keyword_fields=['id']\n",
    ")\n",
    "index.fit(documents)\n"
   ],
   "id": "44284223cbe48a95",
   "outputs": [
    {
     "data": {
      "text/plain": [
       "<minsearch.Index at 0x11c0125d0>"
      ]
     },
     "execution_count": 42,
     "metadata": {},
     "output_type": "execute_result"
    }
   ],
   "execution_count": 42
  },
  {
   "metadata": {
    "ExecuteTime": {
     "end_time": "2025-09-07T12:53:38.481309Z",
     "start_time": "2025-09-07T12:53:38.478375Z"
    }
   },
   "cell_type": "code",
   "source": [
    "def minsearch(query):\n",
    "    boost = {}\n",
    "\n",
    "    results = index.search(\n",
    "        query=query,\n",
    "        filter_dict={},\n",
    "        boost_dict=boost,\n",
    "        num_results=10\n",
    "    )\n",
    "\n",
    "    return results"
   ],
   "id": "4464edaae039392f",
   "outputs": [],
   "execution_count": 43
  },
  {
   "metadata": {
    "ExecuteTime": {
     "end_time": "2025-09-07T12:51:32.805731Z",
     "start_time": "2025-09-07T12:51:32.802596Z"
    }
   },
   "cell_type": "code",
   "source": [
    "def evaluate(ground_truth, search_function):\n",
    "    relevance_total = []\n",
    "\n",
    "    for q in tqdm(ground_truth):\n",
    "        doc_id = q['id']\n",
    "        results = search_function(q)\n",
    "        relevance = [d['id'] == doc_id for d in results]\n",
    "        relevance_total.append(relevance)\n",
    "\n",
    "    return {\n",
    "        'hit_rate': hit_rate(relevance_total),\n",
    "        'mrr': mrr(relevance_total),\n",
    "    }\n"
   ],
   "id": "c4c14540d37437c2",
   "outputs": [],
   "execution_count": 34
  },
  {
   "metadata": {
    "ExecuteTime": {
     "end_time": "2025-09-07T12:51:34.031029Z",
     "start_time": "2025-09-07T12:51:34.027707Z"
    }
   },
   "cell_type": "code",
   "source": [
    "def hit_rate(relevance_total):\n",
    "    cnt = 0\n",
    "\n",
    "    for line in relevance_total:\n",
    "        if True in line:\n",
    "            cnt = cnt + 1\n",
    "\n",
    "    return cnt / len(relevance_total)\n",
    "\n",
    "def mrr(relevance_total):\n",
    "    total_score = 0.0\n",
    "\n",
    "    for line in relevance_total:\n",
    "        for rank in range(len(line)):\n",
    "            if line[rank] == True:\n",
    "                total_score = total_score + 1 / (rank + 1)\n",
    "\n",
    "    return total_score / len(relevance_total)"
   ],
   "id": "8f984120c5d4f023",
   "outputs": [],
   "execution_count": 35
  },
  {
   "metadata": {
    "ExecuteTime": {
     "end_time": "2025-09-07T13:22:46.597250Z",
     "start_time": "2025-09-07T13:22:46.594080Z"
    }
   },
   "cell_type": "code",
   "source": "q['question']",
   "id": "255023a466fbae41",
   "outputs": [
    {
     "data": {
      "text/plain": [
       "'What is the starting position for doing push-ups?'"
      ]
     },
     "execution_count": 50,
     "metadata": {},
     "output_type": "execute_result"
    }
   ],
   "execution_count": 50
  },
  {
   "metadata": {
    "ExecuteTime": {
     "end_time": "2025-09-07T12:53:42.069538Z",
     "start_time": "2025-09-07T12:53:40.741338Z"
    }
   },
   "cell_type": "code",
   "source": "evaluate(ground_truth, lambda q:  minsearch(q['question']))\n",
   "id": "3e03b774da4236df",
   "outputs": [
    {
     "name": "stderr",
     "output_type": "stream",
     "text": [
      "100%|██████████| 1035/1035 [00:01<00:00, 781.56it/s]\n"
     ]
    },
    {
     "data": {
      "text/plain": [
       "{'hit_rate': 0.9478260869565217, 'mrr': 0.822744038033893}"
      ]
     },
     "execution_count": 44,
     "metadata": {},
     "output_type": "execute_result"
    }
   ],
   "execution_count": 44
  },
  {
   "metadata": {},
   "cell_type": "markdown",
   "source": "## finding the best parameters\n",
   "id": "5e6ad1f6010776dd"
  },
  {
   "metadata": {
    "ExecuteTime": {
     "end_time": "2025-09-07T13:08:50.490841Z",
     "start_time": "2025-09-07T13:08:50.484710Z"
    }
   },
   "cell_type": "code",
   "source": [
    "df_validation = df_ground_truth[:100]\n",
    "df_test = df_ground_truth[100:]\n",
    "\n"
   ],
   "id": "53fa65514118b3e6",
   "outputs": [],
   "execution_count": 45
  },
  {
   "metadata": {
    "ExecuteTime": {
     "end_time": "2025-09-07T13:08:51.699233Z",
     "start_time": "2025-09-07T13:08:51.695066Z"
    }
   },
   "cell_type": "code",
   "source": [
    "import random\n",
    "\n",
    "def simple_optimize(param_ranges, objective_function, n_iterations=10):\n",
    "    best_params = None\n",
    "    best_score = float('-inf')\n",
    "\n",
    "    for _ in range(n_iterations):\n",
    "        # Generate random parameters\n",
    "        current_params = {}\n",
    "        for param, (min_val, max_val) in param_ranges.items():\n",
    "            if isinstance(min_val, int) and isinstance(max_val, int):\n",
    "                current_params[param] = random.randint(min_val, max_val)\n",
    "            else:\n",
    "                current_params[param] = random.uniform(min_val, max_val)\n",
    "\n",
    "        # Evaluate the objective function\n",
    "        current_score = objective_function(current_params)\n",
    "\n",
    "        # Update best if current is better\n",
    "        if current_score > best_score:  # Change to > if maximizing\n",
    "            best_score = current_score\n",
    "            best_params = current_params\n",
    "\n",
    "    return best_params, best_score"
   ],
   "id": "c63374dfee8013f8",
   "outputs": [],
   "execution_count": 46
  },
  {
   "metadata": {
    "ExecuteTime": {
     "end_time": "2025-09-07T13:09:52.170269Z",
     "start_time": "2025-09-07T13:09:52.166371Z"
    }
   },
   "cell_type": "code",
   "source": "gt_val = df_validation.to_dict(orient='records')\n",
   "id": "95366fdef89436b",
   "outputs": [],
   "execution_count": 47
  },
  {
   "metadata": {
    "ExecuteTime": {
     "end_time": "2025-09-07T13:10:04.150070Z",
     "start_time": "2025-09-07T13:10:04.146746Z"
    }
   },
   "cell_type": "code",
   "source": [
    "def minsearch_search(query, boost=None):\n",
    "    if boost is None:\n",
    "        boost = {}\n",
    "\n",
    "    results = index.search(\n",
    "        query=query,\n",
    "        filter_dict={},\n",
    "        boost_dict=boost,\n",
    "        num_results=10\n",
    "    )\n",
    "\n",
    "    return results"
   ],
   "id": "70595d44e60bf6a0",
   "outputs": [],
   "execution_count": 48
  },
  {
   "metadata": {
    "ExecuteTime": {
     "end_time": "2025-09-07T13:10:12.229615Z",
     "start_time": "2025-09-07T13:10:12.225847Z"
    }
   },
   "cell_type": "code",
   "source": [
    "param_ranges = {\n",
    "    'exercise_name': (0.0, 3.0),\n",
    "    'type_of_activity': (0.0, 3.0),\n",
    "    'type_of_equipment': (0.0, 3.0),\n",
    "    'body_part': (0.0, 3.0),\n",
    "    'type': (0.0, 3.0),\n",
    "    'muscle_groups_activated': (0.0, 3.0),\n",
    "    'instructions': (0.0, 3.0),\n",
    "}\n",
    "\n",
    "def objective(boost_params):\n",
    "    def search_function(q):\n",
    "        return minsearch_search(q['question'], boost_params)\n",
    "\n",
    "    results = evaluate(gt_val, search_function)\n",
    "    return results['mrr']"
   ],
   "id": "cf4da6466f9724a3",
   "outputs": [],
   "execution_count": 49
  },
  {
   "metadata": {
    "ExecuteTime": {
     "end_time": "2025-09-07T13:23:58.091556Z",
     "start_time": "2025-09-07T13:23:55.412625Z"
    }
   },
   "cell_type": "code",
   "source": "simple_optimize(param_ranges, objective, n_iterations=20)\n",
   "id": "fd3716710558a996",
   "outputs": [
    {
     "name": "stderr",
     "output_type": "stream",
     "text": [
      "100%|██████████| 100/100 [00:00<00:00, 657.25it/s]\n",
      "100%|██████████| 100/100 [00:00<00:00, 759.04it/s]\n",
      "100%|██████████| 100/100 [00:00<00:00, 767.09it/s]\n",
      "100%|██████████| 100/100 [00:00<00:00, 768.56it/s]\n",
      "100%|██████████| 100/100 [00:00<00:00, 767.40it/s]\n",
      "100%|██████████| 100/100 [00:00<00:00, 761.78it/s]\n",
      "100%|██████████| 100/100 [00:00<00:00, 772.22it/s]\n",
      "100%|██████████| 100/100 [00:00<00:00, 773.11it/s]\n",
      "100%|██████████| 100/100 [00:00<00:00, 766.27it/s]\n",
      "100%|██████████| 100/100 [00:00<00:00, 766.00it/s]\n",
      "100%|██████████| 100/100 [00:00<00:00, 718.09it/s]\n",
      "100%|██████████| 100/100 [00:00<00:00, 717.29it/s]\n",
      "100%|██████████| 100/100 [00:00<00:00, 715.27it/s]\n",
      "100%|██████████| 100/100 [00:00<00:00, 748.96it/s]\n",
      "100%|██████████| 100/100 [00:00<00:00, 760.52it/s]\n",
      "100%|██████████| 100/100 [00:00<00:00, 757.80it/s]\n",
      "100%|██████████| 100/100 [00:00<00:00, 765.36it/s]\n",
      "100%|██████████| 100/100 [00:00<00:00, 777.03it/s]\n",
      "100%|██████████| 100/100 [00:00<00:00, 775.53it/s]\n",
      "100%|██████████| 100/100 [00:00<00:00, 767.95it/s]\n"
     ]
    },
    {
     "data": {
      "text/plain": [
       "({'exercise_name': 2.2079862069745246,\n",
       "  'type_of_activity': 0.673923082355541,\n",
       "  'type_of_equipment': 0.3206386885027458,\n",
       "  'body_part': 0.7272928780794605,\n",
       "  'type': 1.9285969667153524,\n",
       "  'muscle_groups_activated': 0.02618059564665598,\n",
       "  'instructions': 0.3773032031981245},\n",
       " 0.857)"
      ]
     },
     "execution_count": 51,
     "metadata": {},
     "output_type": "execute_result"
    }
   ],
   "execution_count": 51
  },
  {
   "metadata": {
    "ExecuteTime": {
     "end_time": "2025-09-07T13:29:12.420349Z",
     "start_time": "2025-09-07T13:29:11.047461Z"
    }
   },
   "cell_type": "code",
   "source": [
    "def minsearch_improved(query):\n",
    "    boost = {\n",
    "        'exercise_name': 2.11,\n",
    "        'type_of_activity': 1.46,\n",
    "        'type_of_equipment': 0.65,\n",
    "        'body_part': 2.65,\n",
    "        'type': 1.31,\n",
    "        'muscle_groups_activated': 2.54,\n",
    "        'instructions': 0.74\n",
    "    }\n",
    "\n",
    "    results = index.search(\n",
    "        query=query,\n",
    "        filter_dict={},\n",
    "        boost_dict=boost,\n",
    "        num_results=10\n",
    "    )\n",
    "\n",
    "    return results\n",
    "\n",
    "evaluate(ground_truth, lambda q: minsearch_improved(q['question']))"
   ],
   "id": "8e5a85257e5292f0",
   "outputs": [
    {
     "name": "stderr",
     "output_type": "stream",
     "text": [
      "100%|██████████| 1035/1035 [00:01<00:00, 758.07it/s]\n"
     ]
    },
    {
     "data": {
      "text/plain": [
       "{'hit_rate': 0.9468599033816425, 'mrr': 0.9029733149298367}"
      ]
     },
     "execution_count": 52,
     "metadata": {},
     "output_type": "execute_result"
    }
   ],
   "execution_count": 52
  }
 ],
 "metadata": {
  "kernelspec": {
   "display_name": "Python 3",
   "language": "python",
   "name": "python3"
  },
  "language_info": {
   "codemirror_mode": {
    "name": "ipython",
    "version": 2
   },
   "file_extension": ".py",
   "mimetype": "text/x-python",
   "name": "python",
   "nbconvert_exporter": "python",
   "pygments_lexer": "ipython2",
   "version": "2.7.6"
  }
 },
 "nbformat": 4,
 "nbformat_minor": 5
}
